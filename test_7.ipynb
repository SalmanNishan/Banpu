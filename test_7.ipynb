{
 "cells": [
  {
   "cell_type": "code",
   "execution_count": 1,
   "metadata": {},
   "outputs": [],
   "source": [
    "from tensorflow import keras\n",
    "from tensorflow.keras.preprocessing.image import ImageDataGenerator\n",
    "from tensorflow.keras.applications import MobileNetV2\n",
    "from tensorflow.keras.layers import Dense, GlobalAveragePooling2D\n",
    "from tensorflow.keras.models import Model"
   ]
  },
  {
   "cell_type": "code",
   "execution_count": 2,
   "metadata": {},
   "outputs": [],
   "source": [
    "# Define data directories and parameters\n",
    "train_dir = \"D:/SALMAN/Banpu/Banpu_5/train\"\n",
    "val_dir = \"D:/SALMAN/Banpu/Banpu_5/valid\"\n",
    "test_dir = \"D:/SALMAN/Banpu/Banpu_5/test\"\n",
    "img_size = (224, 224)  # Adjust to your model's input size\n",
    "batch_size = 32"
   ]
  },
  {
   "cell_type": "code",
   "execution_count": 3,
   "metadata": {},
   "outputs": [],
   "source": [
    "# Create a new ImageDataGenerator for data augmentation\n",
    "datagen = ImageDataGenerator(\n",
    "    rescale=1.0/255.0,\n",
    "    rotation_range=40,\n",
    "    width_shift_range=0.3,\n",
    "    height_shift_range=0.3,\n",
    "    shear_range=0.3,\n",
    "    zoom_range=0.3,\n",
    "    horizontal_flip=True,\n",
    "    fill_mode='nearest'\n",
    ")"
   ]
  },
  {
   "cell_type": "code",
   "execution_count": 4,
   "metadata": {},
   "outputs": [
    {
     "name": "stdout",
     "output_type": "stream",
     "text": [
      "Found 3531 images belonging to 2 classes.\n"
     ]
    }
   ],
   "source": [
    "train_generator = datagen.flow_from_directory(\n",
    "    train_dir,\n",
    "    target_size=img_size,\n",
    "    batch_size=batch_size,\n",
    "    class_mode='binary'\n",
    ")"
   ]
  },
  {
   "cell_type": "code",
   "execution_count": 5,
   "metadata": {},
   "outputs": [
    {
     "name": "stdout",
     "output_type": "stream",
     "text": [
      "Found 756 images belonging to 2 classes.\n"
     ]
    }
   ],
   "source": [
    "val_generator = datagen.flow_from_directory(\n",
    "    val_dir,\n",
    "    target_size=img_size,\n",
    "    batch_size=batch_size,\n",
    "    class_mode='binary'\n",
    ")"
   ]
  },
  {
   "cell_type": "code",
   "execution_count": 6,
   "metadata": {},
   "outputs": [
    {
     "name": "stdout",
     "output_type": "stream",
     "text": [
      "WARNING:tensorflow:`input_shape` is undefined or non-square, or `rows` is not in [96, 128, 160, 192, 224]. Weights for input shape (224, 224) will be loaded as the default.\n"
     ]
    }
   ],
   "source": [
    "# Define a pre-trained model\n",
    "base_model = MobileNetV2(weights='imagenet', include_top=False)\n",
    "x = base_model.output\n",
    "x = GlobalAveragePooling2D()(x)\n",
    "x = Dense(1024, activation='relu')(x)\n",
    "predictions = Dense(1, activation='sigmoid')(x)\n",
    "model = Model(inputs=base_model.input, outputs=predictions)"
   ]
  },
  {
   "cell_type": "code",
   "execution_count": 7,
   "metadata": {},
   "outputs": [],
   "source": [
    "# Compile the model\n",
    "model.compile(optimizer=keras.optimizers.Adam(learning_rate=0.0001),\n",
    "              loss='binary_crossentropy',\n",
    "              metrics=['accuracy'])"
   ]
  },
  {
   "cell_type": "code",
   "execution_count": 8,
   "metadata": {},
   "outputs": [
    {
     "name": "stdout",
     "output_type": "stream",
     "text": [
      "Epoch 1/20\n",
      "111/111 [==============================] - 1011s 9s/step - loss: 0.3616 - accuracy: 0.8236 - val_loss: 0.9060 - val_accuracy: 0.6799\n",
      "Epoch 2/20\n",
      "111/111 [==============================] - 1124s 10s/step - loss: 0.1856 - accuracy: 0.9224 - val_loss: 0.7699 - val_accuracy: 0.7368\n",
      "Epoch 3/20\n",
      "111/111 [==============================] - 1202s 11s/step - loss: 0.1434 - accuracy: 0.9402 - val_loss: 1.0215 - val_accuracy: 0.7460\n",
      "Epoch 4/20\n",
      "111/111 [==============================] - 1131s 10s/step - loss: 0.1165 - accuracy: 0.9499 - val_loss: 0.5448 - val_accuracy: 0.8056\n",
      "Epoch 5/20\n",
      "111/111 [==============================] - 1103s 10s/step - loss: 0.1036 - accuracy: 0.9584 - val_loss: 0.6027 - val_accuracy: 0.8386\n",
      "Epoch 6/20\n",
      "111/111 [==============================] - 720s 6s/step - loss: 0.0905 - accuracy: 0.9640 - val_loss: 0.4351 - val_accuracy: 0.8598\n",
      "Epoch 7/20\n",
      "111/111 [==============================] - 598s 5s/step - loss: 0.0806 - accuracy: 0.9666 - val_loss: 0.1805 - val_accuracy: 0.9312\n",
      "Epoch 8/20\n",
      "111/111 [==============================] - 584s 5s/step - loss: 0.0815 - accuracy: 0.9652 - val_loss: 0.2734 - val_accuracy: 0.9233\n",
      "Epoch 9/20\n",
      "111/111 [==============================] - 595s 5s/step - loss: 0.0794 - accuracy: 0.9683 - val_loss: 0.1676 - val_accuracy: 0.9405\n",
      "Epoch 10/20\n",
      "111/111 [==============================] - 589s 5s/step - loss: 0.0611 - accuracy: 0.9776 - val_loss: 0.1049 - val_accuracy: 0.9577\n",
      "Epoch 11/20\n",
      "111/111 [==============================] - 583s 5s/step - loss: 0.0600 - accuracy: 0.9765 - val_loss: 0.1242 - val_accuracy: 0.9630\n",
      "Epoch 12/20\n",
      "111/111 [==============================] - 584s 5s/step - loss: 0.0547 - accuracy: 0.9779 - val_loss: 0.1372 - val_accuracy: 0.9471\n",
      "Epoch 13/20\n",
      "111/111 [==============================] - 584s 5s/step - loss: 0.0454 - accuracy: 0.9827 - val_loss: 0.0982 - val_accuracy: 0.9696\n",
      "Epoch 14/20\n",
      "111/111 [==============================] - 582s 5s/step - loss: 0.0461 - accuracy: 0.9833 - val_loss: 0.1172 - val_accuracy: 0.9656\n",
      "Epoch 15/20\n",
      "111/111 [==============================] - 585s 5s/step - loss: 0.0495 - accuracy: 0.9807 - val_loss: 0.1156 - val_accuracy: 0.9722\n",
      "Epoch 16/20\n",
      "111/111 [==============================] - 592s 5s/step - loss: 0.0551 - accuracy: 0.9813 - val_loss: 0.2585 - val_accuracy: 0.9392\n",
      "Epoch 17/20\n",
      "111/111 [==============================] - 585s 5s/step - loss: 0.0417 - accuracy: 0.9836 - val_loss: 0.5574 - val_accuracy: 0.8862\n",
      "Epoch 18/20\n",
      "111/111 [==============================] - 585s 5s/step - loss: 0.0377 - accuracy: 0.9847 - val_loss: 0.9910 - val_accuracy: 0.8122\n",
      "Epoch 19/20\n",
      "111/111 [==============================] - 587s 5s/step - loss: 0.0342 - accuracy: 0.9875 - val_loss: 0.2702 - val_accuracy: 0.9339\n",
      "Epoch 20/20\n",
      "111/111 [==============================] - 582s 5s/step - loss: 0.0298 - accuracy: 0.9875 - val_loss: 0.0864 - val_accuracy: 0.9762\n"
     ]
    },
    {
     "data": {
      "text/plain": [
       "<keras.src.callbacks.History at 0x16a5ab70a10>"
      ]
     },
     "execution_count": 8,
     "metadata": {},
     "output_type": "execute_result"
    }
   ],
   "source": [
    "# Train the model\n",
    "model.fit(train_generator,\n",
    "          epochs=20,  # Increase the number of epochs\n",
    "          steps_per_epoch=len(train_generator),\n",
    "          validation_data=val_generator,\n",
    "          validation_steps=len(val_generator))"
   ]
  },
  {
   "cell_type": "code",
   "execution_count": 9,
   "metadata": {},
   "outputs": [],
   "source": [
    "# Evaluate the model on the test set\n",
    "test_datagen = ImageDataGenerator(rescale=1.0/255.0)"
   ]
  },
  {
   "cell_type": "code",
   "execution_count": 10,
   "metadata": {},
   "outputs": [
    {
     "name": "stdout",
     "output_type": "stream",
     "text": [
      "Found 757 images belonging to 2 classes.\n"
     ]
    }
   ],
   "source": [
    "test_generator = test_datagen.flow_from_directory(\n",
    "    test_dir,\n",
    "    target_size=img_size,\n",
    "    batch_size=batch_size,\n",
    "    class_mode='binary'\n",
    ")"
   ]
  },
  {
   "cell_type": "code",
   "execution_count": 11,
   "metadata": {},
   "outputs": [
    {
     "name": "stdout",
     "output_type": "stream",
     "text": [
      "24/24 [==============================] - 21s 856ms/step - loss: 0.0287 - accuracy: 0.9921\n",
      "Test Loss: 0.0287482850253582, Test Accuracy: 0.9920739531517029\n"
     ]
    }
   ],
   "source": [
    "test_loss, test_accuracy = model.evaluate(test_generator)\n",
    "print(f\"Test Loss: {test_loss}, Test Accuracy: {test_accuracy}\")"
   ]
  },
  {
   "cell_type": "code",
   "execution_count": 12,
   "metadata": {},
   "outputs": [
    {
     "name": "stderr",
     "output_type": "stream",
     "text": [
      "c:\\Users\\Salman\\AppData\\Local\\Programs\\Python\\Python311\\Lib\\site-packages\\keras\\src\\engine\\training.py:3079: UserWarning: You are saving your model as an HDF5 file via `model.save()`. This file format is considered legacy. We recommend using instead the native Keras format, e.g. `model.save('my_model.keras')`.\n",
      "  saving_api.save_model(\n"
     ]
    }
   ],
   "source": [
    "model.save(\"test_7.h5\")"
   ]
  },
  {
   "cell_type": "code",
   "execution_count": 2,
   "metadata": {},
   "outputs": [
    {
     "name": "stdout",
     "output_type": "stream",
     "text": [
      "1/1 [==============================] - 0s 456ms/step\n",
      "[[0.30517203]]\n",
      "Predicted class: bad weld\n"
     ]
    }
   ],
   "source": [
    "from tensorflow.keras.preprocessing import image\n",
    "import numpy as np\n",
    "from tensorflow.keras.models import load_model\n",
    "\n",
    "img_size = (224, 224)\n",
    "\n",
    "# Load the single image\n",
    "# image_path = \"C:/Users/salman.nishan/Downloads/Banpu_5/data/original_bad/17.jpg\"\n",
    "image_path = \"C:/Users/salman.nishan/Downloads/Banpu_5/data/original_bad/123.jpg\"\n",
    "# image_path = \"C:/Users/salman.nishan/Downloads/Banpu_5/data/original_good/86.png\"\n",
    "\n",
    "img = image.load_img(image_path, target_size=img_size)\n",
    "img_array = image.img_to_array(img)\n",
    "img_array = np.expand_dims(img_array, axis=0)\n",
    "img_array /= 255.0  # Normalize pixel values to the range [0, 1]\n",
    "\n",
    "loaded_model = load_model(\"test_7.h5\")\n",
    "\n",
    "# Use the loaded model for prediction\n",
    "prediction = loaded_model.predict(img_array)\n",
    "print(prediction)\n",
    "\n",
    "# Interpret the prediction\n",
    "predicted_class = \"good weld\" if prediction > 0.8 else \"bad weld\"\n",
    "print(\"Predicted class:\", predicted_class)\n"
   ]
  },
  {
   "cell_type": "code",
   "execution_count": null,
   "metadata": {},
   "outputs": [],
   "source": []
  }
 ],
 "metadata": {
  "kernelspec": {
   "display_name": "Python 3",
   "language": "python",
   "name": "python3"
  },
  "language_info": {
   "codemirror_mode": {
    "name": "ipython",
    "version": 3
   },
   "file_extension": ".py",
   "mimetype": "text/x-python",
   "name": "python",
   "nbconvert_exporter": "python",
   "pygments_lexer": "ipython3",
   "version": "3.11.0"
  },
  "orig_nbformat": 4
 },
 "nbformat": 4,
 "nbformat_minor": 2
}
