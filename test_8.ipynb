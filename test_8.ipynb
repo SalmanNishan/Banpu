{
 "cells": [
  {
   "cell_type": "code",
   "execution_count": 2,
   "metadata": {},
   "outputs": [],
   "source": [
    "from tensorflow import keras\n",
    "from tensorflow.keras import layers\n",
    "from tensorflow.keras.preprocessing.image import ImageDataGenerator\n",
    "from tensorflow.keras.preprocessing import image\n",
    "import numpy as np"
   ]
  },
  {
   "cell_type": "code",
   "execution_count": 3,
   "metadata": {},
   "outputs": [],
   "source": [
    "# Define data directories and parameters\n",
    "train_dir = \"D:/SALMAN/Banpu/Banpu_5/train\"\n",
    "val_dir = \"D:/SALMAN/Banpu/Banpu_5/valid\"\n",
    "test_dir = \"D:/SALMAN/Banpu/Banpu_5/test\"\n",
    "img_size = (150, 150)  # Adjust to your model's input size\n",
    "batch_size = 32"
   ]
  },
  {
   "cell_type": "code",
   "execution_count": 4,
   "metadata": {},
   "outputs": [],
   "source": [
    "# Data Augmentation\n",
    "datagen = ImageDataGenerator(\n",
    "    rescale=1.0/255.0,\n",
    "    rotation_range=20,\n",
    "    width_shift_range=0.2,\n",
    "    height_shift_range=0.2,\n",
    "    shear_range=0.2,\n",
    "    zoom_range=0.2,\n",
    "    horizontal_flip=True,\n",
    "    fill_mode='nearest'\n",
    ")"
   ]
  },
  {
   "cell_type": "code",
   "execution_count": 5,
   "metadata": {},
   "outputs": [],
   "source": [
    "val_datagen = ImageDataGenerator(rescale=1.0/255.0)"
   ]
  },
  {
   "cell_type": "code",
   "execution_count": 6,
   "metadata": {},
   "outputs": [
    {
     "name": "stdout",
     "output_type": "stream",
     "text": [
      "Found 3531 images belonging to 2 classes.\n"
     ]
    }
   ],
   "source": [
    "train_generator = datagen.flow_from_directory(\n",
    "    train_dir,\n",
    "    target_size=img_size,\n",
    "    batch_size=batch_size,\n",
    "    class_mode='binary'\n",
    ")"
   ]
  },
  {
   "cell_type": "code",
   "execution_count": 7,
   "metadata": {},
   "outputs": [
    {
     "name": "stdout",
     "output_type": "stream",
     "text": [
      "Found 756 images belonging to 2 classes.\n"
     ]
    }
   ],
   "source": [
    "val_generator = datagen.flow_from_directory(\n",
    "    val_dir,\n",
    "    target_size=img_size,\n",
    "    batch_size=batch_size,\n",
    "    class_mode='binary'\n",
    ")"
   ]
  },
  {
   "cell_type": "code",
   "execution_count": 8,
   "metadata": {},
   "outputs": [],
   "source": [
    "model = keras.Sequential([\n",
    "    layers.Conv2D(32, (3, 3), activation='relu', input_shape=(150, 150, 3)),\n",
    "    layers.MaxPooling2D(2, 2),\n",
    "    layers.Conv2D(64, (3, 3), activation='relu'),\n",
    "    layers.MaxPooling2D(2, 2),\n",
    "    layers.Conv2D(128, (3, 3), activation='relu'),\n",
    "    layers.MaxPooling2D(2, 2),\n",
    "    layers.Flatten(),\n",
    "    layers.Dense(256, activation='relu'),\n",
    "    layers.Dense(1, activation='sigmoid')  # Binary classification output\n",
    "])"
   ]
  },
  {
   "cell_type": "code",
   "execution_count": 9,
   "metadata": {},
   "outputs": [],
   "source": [
    "model.compile(optimizer='adam', loss='binary_crossentropy', metrics=['accuracy'])"
   ]
  },
  {
   "cell_type": "code",
   "execution_count": 10,
   "metadata": {},
   "outputs": [
    {
     "name": "stdout",
     "output_type": "stream",
     "text": [
      "Epoch 1/20\n",
      "111/111 [==============================] - 288s 3s/step - loss: 0.6782 - accuracy: 0.5947 - val_loss: 0.5455 - val_accuracy: 0.7341\n",
      "Epoch 2/20\n",
      "111/111 [==============================] - 258s 2s/step - loss: 0.5355 - accuracy: 0.7089 - val_loss: 0.5235 - val_accuracy: 0.7368\n",
      "Epoch 3/20\n",
      "111/111 [==============================] - 245s 2s/step - loss: 0.5089 - accuracy: 0.7363 - val_loss: 0.4668 - val_accuracy: 0.7685\n",
      "Epoch 4/20\n",
      "111/111 [==============================] - 242s 2s/step - loss: 0.5002 - accuracy: 0.7352 - val_loss: 0.4587 - val_accuracy: 0.7659\n",
      "Epoch 5/20\n",
      "111/111 [==============================] - 280s 3s/step - loss: 0.4996 - accuracy: 0.7358 - val_loss: 0.4905 - val_accuracy: 0.7341\n",
      "Epoch 6/20\n",
      "111/111 [==============================] - 278s 2s/step - loss: 0.4825 - accuracy: 0.7460 - val_loss: 0.4323 - val_accuracy: 0.7725\n",
      "Epoch 7/20\n",
      "111/111 [==============================] - 279s 2s/step - loss: 0.4815 - accuracy: 0.7428 - val_loss: 0.4358 - val_accuracy: 0.7804\n",
      "Epoch 8/20\n",
      "111/111 [==============================] - 279s 2s/step - loss: 0.4616 - accuracy: 0.7494 - val_loss: 0.4018 - val_accuracy: 0.7817\n",
      "Epoch 9/20\n",
      "111/111 [==============================] - 261s 2s/step - loss: 0.4508 - accuracy: 0.7641 - val_loss: 0.4863 - val_accuracy: 0.7540\n",
      "Epoch 10/20\n",
      "111/111 [==============================] - 232s 2s/step - loss: 0.4715 - accuracy: 0.7545 - val_loss: 0.4123 - val_accuracy: 0.7619\n",
      "Epoch 11/20\n",
      "111/111 [==============================] - 239s 2s/step - loss: 0.4347 - accuracy: 0.7754 - val_loss: 0.3877 - val_accuracy: 0.8029\n",
      "Epoch 12/20\n",
      "111/111 [==============================] - 241s 2s/step - loss: 0.4168 - accuracy: 0.7890 - val_loss: 0.3442 - val_accuracy: 0.8730\n",
      "Epoch 13/20\n",
      "111/111 [==============================] - 237s 2s/step - loss: 0.4174 - accuracy: 0.7876 - val_loss: 0.3672 - val_accuracy: 0.8175\n",
      "Epoch 14/20\n",
      "111/111 [==============================] - 260s 2s/step - loss: 0.4308 - accuracy: 0.7887 - val_loss: 0.5330 - val_accuracy: 0.7368\n",
      "Epoch 15/20\n",
      "111/111 [==============================] - 234s 2s/step - loss: 0.4504 - accuracy: 0.7672 - val_loss: 0.4098 - val_accuracy: 0.7963\n",
      "Epoch 16/20\n",
      "111/111 [==============================] - 241s 2s/step - loss: 0.4091 - accuracy: 0.7950 - val_loss: 0.3554 - val_accuracy: 0.8624\n",
      "Epoch 17/20\n",
      "111/111 [==============================] - 238s 2s/step - loss: 0.3937 - accuracy: 0.8003 - val_loss: 0.4751 - val_accuracy: 0.7632\n",
      "Epoch 18/20\n",
      "111/111 [==============================] - 237s 2s/step - loss: 0.3878 - accuracy: 0.8057 - val_loss: 0.3100 - val_accuracy: 0.8717\n",
      "Epoch 19/20\n",
      "111/111 [==============================] - 231s 2s/step - loss: 0.3640 - accuracy: 0.8238 - val_loss: 0.3206 - val_accuracy: 0.8360\n",
      "Epoch 20/20\n",
      "111/111 [==============================] - 237s 2s/step - loss: 0.3617 - accuracy: 0.8244 - val_loss: 0.2914 - val_accuracy: 0.8664\n"
     ]
    }
   ],
   "source": [
    "history = model.fit(train_generator, epochs=20, validation_data=val_generator)"
   ]
  },
  {
   "cell_type": "code",
   "execution_count": 11,
   "metadata": {},
   "outputs": [
    {
     "name": "stdout",
     "output_type": "stream",
     "text": [
      "24/24 [==============================] - 18s 739ms/step - loss: 0.2970 - accuracy: 0.8743\n",
      "Validation accuracy: 0.8743386268615723\n"
     ]
    }
   ],
   "source": [
    "test_loss, test_acc = model.evaluate(val_generator)\n",
    "print(\"Validation accuracy:\", test_acc)"
   ]
  },
  {
   "cell_type": "code",
   "execution_count": 12,
   "metadata": {},
   "outputs": [],
   "source": [
    "# Evaluate the model on the test set\n",
    "test_datagen = ImageDataGenerator(rescale=1.0/255.0)"
   ]
  },
  {
   "cell_type": "code",
   "execution_count": 13,
   "metadata": {},
   "outputs": [
    {
     "name": "stdout",
     "output_type": "stream",
     "text": [
      "Found 757 images belonging to 2 classes.\n"
     ]
    }
   ],
   "source": [
    "test_generator = test_datagen.flow_from_directory(\n",
    "    test_dir,\n",
    "    target_size=img_size,\n",
    "    batch_size=batch_size,\n",
    "    class_mode='binary'\n",
    ")"
   ]
  },
  {
   "cell_type": "code",
   "execution_count": 14,
   "metadata": {},
   "outputs": [
    {
     "name": "stdout",
     "output_type": "stream",
     "text": [
      "24/24 [==============================] - 36s 2s/step - loss: 0.2595 - accuracy: 0.8838\n",
      "Test Loss: 0.2595135569572449, Test Accuracy: 0.883751630783081\n"
     ]
    }
   ],
   "source": [
    "test_loss, test_accuracy = model.evaluate(test_generator)\n",
    "print(f\"Test Loss: {test_loss}, Test Accuracy: {test_accuracy}\")"
   ]
  },
  {
   "cell_type": "code",
   "execution_count": 15,
   "metadata": {},
   "outputs": [
    {
     "name": "stdout",
     "output_type": "stream",
     "text": [
      "1/1 [==============================] - 1s 1s/step\n",
      "[[0.9001201]]\n",
      "Predicted class: good weld\n"
     ]
    }
   ],
   "source": [
    "img = image.load_img('D:/SALMAN/Banpu/Banpu_5/test/good_weld/augmented_1927.png', target_size=(150, 150))\n",
    "img = image.img_to_array(img)\n",
    "img = np.expand_dims(img, axis=0)\n",
    "img = img / 255.0  # Normalize\n",
    "\n",
    "prediction = model.predict(img)\n",
    "print(prediction)\n",
    "class_label = \"good weld\" if prediction > 0.8 else \"bad weld\"\n",
    "print(\"Predicted class:\", class_label)\n"
   ]
  },
  {
   "cell_type": "code",
   "execution_count": 16,
   "metadata": {},
   "outputs": [
    {
     "name": "stdout",
     "output_type": "stream",
     "text": [
      "1/1 [==============================] - 0s 78ms/step\n",
      "[[8.919352e-18]]\n",
      "Predicted class: bad weld\n"
     ]
    }
   ],
   "source": [
    "img = image.load_img('D:/SALMAN/Banpu/Banpu_5/test/bad_weld/augmented_1608.png', target_size=(150, 150))\n",
    "img = image.img_to_array(img)\n",
    "img = np.expand_dims(img, axis=0)\n",
    "img = img / 255.0  # Normalize\n",
    "\n",
    "prediction = model.predict(img)\n",
    "print(prediction)\n",
    "class_label = \"good weld\" if prediction > 0.8 else \"bad weld\"\n",
    "print(\"Predicted class:\", class_label)\n"
   ]
  },
  {
   "cell_type": "code",
   "execution_count": 17,
   "metadata": {},
   "outputs": [
    {
     "name": "stderr",
     "output_type": "stream",
     "text": [
      "c:\\Users\\Salman\\AppData\\Local\\Programs\\Python\\Python311\\Lib\\site-packages\\keras\\src\\engine\\training.py:3079: UserWarning: You are saving your model as an HDF5 file via `model.save()`. This file format is considered legacy. We recommend using instead the native Keras format, e.g. `model.save('my_model.keras')`.\n",
      "  saving_api.save_model(\n"
     ]
    }
   ],
   "source": [
    "model.save(\"test_8.h5\")"
   ]
  },
  {
   "cell_type": "code",
   "execution_count": null,
   "metadata": {},
   "outputs": [],
   "source": []
  }
 ],
 "metadata": {
  "kernelspec": {
   "display_name": "Python 3",
   "language": "python",
   "name": "python3"
  },
  "language_info": {
   "codemirror_mode": {
    "name": "ipython",
    "version": 3
   },
   "file_extension": ".py",
   "mimetype": "text/x-python",
   "name": "python",
   "nbconvert_exporter": "python",
   "pygments_lexer": "ipython3",
   "version": "3.11.5"
  },
  "orig_nbformat": 4
 },
 "nbformat": 4,
 "nbformat_minor": 2
}
