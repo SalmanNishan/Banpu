{
 "cells": [
  {
   "cell_type": "code",
   "execution_count": 3,
   "metadata": {},
   "outputs": [],
   "source": [
    "import boto3\n",
    "\n",
    "# Use AWS CLI named profile\n",
    "session = boto3.Session(profile_name=\"bivlab\")\n",
    "sagemaker_runtime = session.client(\"sagemaker-runtime\")\n",
    "s3_client = session.client(\"s3\")"
   ]
  },
  {
   "cell_type": "code",
   "execution_count": 4,
   "metadata": {},
   "outputs": [],
   "source": [
    "ENDPOINT_NAME = \"tensorflow-inference-2024-07-11-09-00-17-984\"\n",
    "ALLOWED_EXTENSIONS = {\"png\", \"jpg\", \"jpeg\", \"gif\"}"
   ]
  },
  {
   "cell_type": "code",
   "execution_count": 5,
   "metadata": {},
   "outputs": [],
   "source": [
    "import io\n",
    "import json\n",
    "import urllib.parse\n",
    "import numpy as np\n",
    "from PIL import Image"
   ]
  },
  {
   "cell_type": "code",
   "execution_count": 6,
   "metadata": {},
   "outputs": [],
   "source": [
    "def preprocess_image(image_content):\n",
    "    img = Image.open(image_content)\n",
    "    img = img.resize((150, 150))\n",
    "    img = np.array(img)\n",
    "\n",
    "    # Ensure that the image has three channels (for RGB images)\n",
    "    if img.shape[-1] != 3:\n",
    "        img = img[:, :, :3]  # Keep only the first three channels\n",
    "\n",
    "    img = img / 255.0  # Normalize the image\n",
    "    img = np.expand_dims(img, axis=0)  # Add batch dimension\n",
    "    return img\n",
    "\n",
    "def make_prediction(bucket_name, image_key):\n",
    "    # Check if the file extension is allowed\n",
    "    extension = image_key.rsplit(\".\", 1)[1].lower()\n",
    "\n",
    "    if extension not in ALLOWED_EXTENSIONS:\n",
    "        return {\n",
    "            \"bucket\": bucket_name,\n",
    "            \"file\": image_key,\n",
    "            \"label\": \"INVALID FILE TYPE\",\n",
    "            \"score\": 0,\n",
    "        }\n",
    "\n",
    "    # Retrieve the uploaded file content\n",
    "    response = s3_client.get_object(Bucket=bucket_name, Key=image_key)\n",
    "    file_data = response[\"Body\"].read()\n",
    "    image_content = io.BytesIO(file_data)\n",
    "    input_data = preprocess_image(image_content)\n",
    "\n",
    "    # Send the file content to the SageMaker endpoint for prediction\n",
    "    response = sagemaker_runtime.invoke_endpoint(\n",
    "        EndpointName=ENDPOINT_NAME,\n",
    "        ContentType=\"application/json\",\n",
    "        Body=json.dumps(input_data.tolist()).encode(),\n",
    "    )\n",
    "\n",
    "    # Process the prediction result\n",
    "    response_body = json.loads(response[\"Body\"].read().decode())\n",
    "    result = response_body[\"predictions\"][0][0]\n",
    "    label = \"GOOD WELD\" if result > 0.8 else \"BAD WELD\"\n",
    "\n",
    "    return {\n",
    "        \"bucket\": bucket_name,\n",
    "        \"file\": image_key,\n",
    "        \"label\": label,\n",
    "        \"score\": result\n",
    "    }"
   ]
  },
  {
   "cell_type": "code",
   "execution_count": 7,
   "metadata": {},
   "outputs": [],
   "source": [
    "def lambda_handler(event, context):\n",
    "    results = []\n",
    "\n",
    "    for record in event[\"Records\"]:\n",
    "        bucket = record[\"s3\"][\"bucket\"][\"name\"]\n",
    "        key = urllib.parse.unquote_plus(record[\"s3\"][\"object\"][\"key\"], encoding=\"utf-8\")\n",
    "        result = make_prediction(bucket, key)\n",
    "        results.append(result)\n",
    "\n",
    "    print(results)\n",
    "    return {\"statusCode\": 200, \"body\": json.dumps(results)}"
   ]
  },
  {
   "cell_type": "code",
   "execution_count": 8,
   "metadata": {},
   "outputs": [
    {
     "name": "stdout",
     "output_type": "stream",
     "text": [
      "[{'bucket': 'banpu-interns-data-exchange', 'file': 'data/test/bad_weld/augmented_1607.png', 'label': 'BAD WELD', 'score': 3.98490919e-12}, {'bucket': 'banpu-interns-data-exchange', 'file': 'data/test/good_weld/augmented_1639.png', 'label': 'GOOD WELD', 'score': 1.0}]\n"
     ]
    },
    {
     "data": {
      "text/plain": [
       "{'statusCode': 200,\n",
       " 'body': '[{\"bucket\": \"banpu-interns-data-exchange\", \"file\": \"data/test/bad_weld/augmented_1607.png\", \"label\": \"BAD WELD\", \"score\": 3.98490919e-12}, {\"bucket\": \"banpu-interns-data-exchange\", \"file\": \"data/test/good_weld/augmented_1639.png\", \"label\": \"GOOD WELD\", \"score\": 1.0}]'}"
      ]
     },
     "execution_count": 8,
     "metadata": {},
     "output_type": "execute_result"
    }
   ],
   "source": [
    "event_bad = {\n",
    "    \"Records\": [\n",
    "        {\n",
    "            \"s3\": {\n",
    "                \"bucket\": {\"name\": \"banpu-interns-data-exchange\"},\n",
    "                \"object\": {\"key\": \"data/test/bad_weld/augmented_1607.png\"},\n",
    "            }\n",
    "        },\n",
    "        {\n",
    "            \"s3\": {\n",
    "                \"bucket\": {\"name\": \"banpu-interns-data-exchange\"},\n",
    "                \"object\": {\"key\": \"data/test/good_weld/augmented_1639.png\"},\n",
    "            }\n",
    "        },\n",
    "    ]\n",
    "}\n",
    "\n",
    "lambda_handler(event_bad, None)"
   ]
  }
 ],
 "metadata": {
  "kernelspec": {
   "display_name": "base",
   "language": "python",
   "name": "python3"
  },
  "language_info": {
   "codemirror_mode": {
    "name": "ipython",
    "version": 3
   },
   "file_extension": ".py",
   "mimetype": "text/x-python",
   "name": "python",
   "nbconvert_exporter": "python",
   "pygments_lexer": "ipython3",
   "version": "3.12.4"
  }
 },
 "nbformat": 4,
 "nbformat_minor": 2
}
